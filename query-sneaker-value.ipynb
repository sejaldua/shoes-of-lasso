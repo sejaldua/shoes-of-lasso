{
 "cells": [
  {
   "cell_type": "code",
   "execution_count": 63,
   "metadata": {},
   "outputs": [],
   "source": [
    "import requests\n",
    "import pandas as pd\n",
    "import yaml\n",
    "from yaml import BaseLoader\n",
    "from tqdm import tqdm\n",
    "import json\n",
    "\n",
    "# Load the YAML file.\n",
    "with open(\"key.yaml\") as f:\n",
    "    key = yaml.load(f, Loader=BaseLoader)"
   ]
  },
  {
   "cell_type": "code",
   "execution_count": 64,
   "metadata": {},
   "outputs": [
    {
     "data": {
      "text/plain": [
       "['Nike Air Pegasus 92 Lite',\n",
       " 'Nike Tanjun',\n",
       " 'Jordan Zoom Zero Gravity',\n",
       " 'Jordan React Havoc Paris Saint-Germain (PSG)',\n",
       " 'Nike Tanjun in Midnight Navy/Game Royal/White',\n",
       " 'Nike Air Huarache Premium ‘Varsity Jacket’ in Red',\n",
       " 'Nike Air Zoom Pegasus\\xa0Lite Total Orange\\xa092',\n",
       " 'Odyssey React 2 Flyknit ‘Black Racer Blue’',\n",
       " 'Eric Koston Air Jordan 1 Low ‘Powder Blue’',\n",
       " 'JIMMY CHOO Diamond X Strap/F Leather Sneakers',\n",
       " 'Nike Blazer Low X ‘White Light Photo Blue’',\n",
       " 'Eric Koston x Air Jordan 1 Low SB ‘Powder Blue’',\n",
       " 'Nike Waffle One Summer of Sports Pack',\n",
       " 'ASIC Mexico 66 ‘Kill Bill’',\n",
       " 'Nike Air Jordan 3 ‘Muslin’',\n",
       " 'Red Nike Daybreak Type ‘Red Racer Blue’',\n",
       " 'Nike Daybreak ‘Light Armory Blue’',\n",
       " 'Nike Air Jordan 5 “Chinese New Year”',\n",
       " 'Nike Air Jordan 1 Low Light Smoke Grey',\n",
       " 'Nike Air Jordan 1 Low ‘White Camo’',\n",
       " 'Air Jordan 13 “Lucky Green”',\n",
       " 'Nike Phantom Vision Academy Indoor Turf Soccer Shoes',\n",
       " 'New Balance 515 Sport V2 White Pigment Red ML515OTX',\n",
       " 'New Balance 515 V2 White Pigment Red',\n",
       " 'Nike Jordan Delta Breathe',\n",
       " 'Nike Air Jordan 1 Retro High OG ‘University Blue’',\n",
       " 'Nike Daybreak ‘Red Racer Blue’',\n",
       " 'Nike Jordan 1 Low Mocha',\n",
       " 'Nike Air Huarache ‘Red Oxide’',\n",
       " 'Nike Air Jordan 1 Low SE ‘Spades’']"
      ]
     },
     "execution_count": 64,
     "metadata": {},
     "output_type": "execute_result"
    }
   ],
   "source": [
    "df = pd.read_csv('./data/lasso-sneaks.csv')\n",
    "shoes = list(df['Shoe'].unique())\n",
    "shoes"
   ]
  },
  {
   "cell_type": "code",
   "execution_count": 65,
   "metadata": {},
   "outputs": [],
   "source": [
    "import re\n",
    "import time\n",
    "\n",
    "url = \"https://sneaker-database-stockx.p.rapidapi.com/getproducts\"\n",
    "\n",
    "headers = {\n",
    "\t\"X-RapidAPI-Key\": key['RAPID_API_KEY'],\n",
    "\t\"X-RapidAPI-Host\": \"sneaker-database-stockx.p.rapidapi.com\"\n",
    "}\n",
    "\n",
    "sneaker_dict = {}\n",
    "for i, sneaker in enumerate(shoes): \n",
    "    \n",
    "\ttry:\n",
    "\t\t# cleaning up quote characters\n",
    "\t\tsneaker_str = re.sub(r'[^A-Za-z0-9 ]+', ' ', sneaker)\n",
    "\t\tsneaker_str = re.sub(' +', ' ', sneaker_str).strip()\n",
    "\n",
    "\t\t# make API request to the getProducts endpoint of the Sneaker Database - StockX API, save response in dict\n",
    "\t\tquerystring = {\"keywords\":sneaker_str,\"limit\":\"1\"}\n",
    "\t\tresponse = requests.get(url, headers=headers, params=querystring)\n",
    "\t\tsneaker_dict[sneaker] = json.loads(response.text)[0]\n",
    "\t\tprint(i, f\"SUCCESS: {sneaker}\")\n",
    "\n",
    "\texcept Exception as e:\n",
    "\t\tprint(i, f\"ERROR: {sneaker} ({sneaker_str})\")\n",
    "\t\tprint(e)\n",
    "\n",
    "\t# wait 5 minutes just in case we hit the rate limit\n",
    "\ttime.sleep(300)\n"
   ]
  },
  {
   "cell_type": "code",
   "execution_count": 62,
   "metadata": {},
   "outputs": [],
   "source": [
    "with open(\"./data/sneaker_info.json\", \"w\") as outfile:\n",
    "    json.dump(sneaker_dict, outfile)"
   ]
  },
  {
   "cell_type": "code",
   "execution_count": null,
   "metadata": {},
   "outputs": [],
   "source": []
  }
 ],
 "metadata": {
  "kernelspec": {
   "display_name": "Python 3.8.9 64-bit",
   "language": "python",
   "name": "python3"
  },
  "language_info": {
   "codemirror_mode": {
    "name": "ipython",
    "version": 3
   },
   "file_extension": ".py",
   "mimetype": "text/x-python",
   "name": "python",
   "nbconvert_exporter": "python",
   "pygments_lexer": "ipython3",
   "version": "3.8.9"
  },
  "orig_nbformat": 4,
  "vscode": {
   "interpreter": {
    "hash": "31f2aee4e71d21fbe5cf8b01ff0e069b9275f58929596ceb00d14d90e3e16cd6"
   }
  }
 },
 "nbformat": 4,
 "nbformat_minor": 2
}
