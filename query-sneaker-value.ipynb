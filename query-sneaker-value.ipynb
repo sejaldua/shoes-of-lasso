{
 "cells": [
  {
   "cell_type": "code",
   "execution_count": 69,
   "metadata": {},
   "outputs": [],
   "source": [
    "import requests\n",
    "import pandas as pd\n",
    "import yaml\n",
    "from yaml import BaseLoader\n",
    "from tqdm import tqdm\n",
    "import json\n",
    "\n",
    "# Load the YAML file.\n",
    "with open(\"key.yaml\") as f:\n",
    "    key = yaml.load(f, Loader=BaseLoader)"
   ]
  },
  {
   "cell_type": "code",
   "execution_count": 70,
   "metadata": {},
   "outputs": [
    {
     "data": {
      "text/plain": [
       "['Nike Air Pegasus 92 Lite',\n",
       " 'Nike Tanjun',\n",
       " 'Jordan Zoom Zero Gravity',\n",
       " 'Jordan React Havoc Paris Saint-Germain (PSG)',\n",
       " 'Nike Tanjun in Midnight Navy/Game Royal/White',\n",
       " 'Nike Air Huarache Premium ‘Varsity Jacket’ in Red',\n",
       " 'Nike Air Zoom Pegasus\\xa0Lite Total Orange\\xa092',\n",
       " 'Odyssey React 2 Flyknit ‘Black Racer Blue’',\n",
       " 'Eric Koston Air Jordan 1 Low ‘Powder Blue’',\n",
       " 'JIMMY CHOO Diamond X Strap/F Leather Sneakers',\n",
       " 'Nike Blazer Low X ‘White Light Photo Blue’',\n",
       " 'Eric Koston x Air Jordan 1 Low SB ‘Powder Blue’',\n",
       " 'Nike Waffle One Summer of Sports Pack',\n",
       " 'ASIC Mexico 66 ‘Kill Bill’',\n",
       " 'Nike Air Jordan 3 ‘Muslin’',\n",
       " 'Red Nike Daybreak Type ‘Red Racer Blue’',\n",
       " 'Nike Daybreak ‘Light Armory Blue’',\n",
       " 'Nike Air Jordan 5 “Chinese New Year”',\n",
       " 'Nike Air Jordan 1 Low Light Smoke Grey',\n",
       " 'Nike Air Jordan 1 Low ‘White Camo’',\n",
       " 'Air Jordan 13 “Lucky Green”',\n",
       " 'Nike Phantom Vision Academy Indoor Turf Soccer Shoes',\n",
       " 'New Balance 515 Sport V2 White Pigment Red ML515OTX',\n",
       " 'New Balance 515 V2 White Pigment Red',\n",
       " 'Nike Jordan Delta Breathe',\n",
       " 'Nike Air Jordan 1 Retro High OG ‘University Blue’',\n",
       " 'Nike Daybreak ‘Red Racer Blue’',\n",
       " 'Nike Jordan 1 Low Mocha',\n",
       " 'Nike Air Huarache ‘Red Oxide’',\n",
       " 'Nike Air Jordan 1 Low SE ‘Spades’']"
      ]
     },
     "execution_count": 70,
     "metadata": {},
     "output_type": "execute_result"
    }
   ],
   "source": [
    "df = pd.read_csv('./data/lasso-sneaks.csv')\n",
    "shoes = list(df['Shoe'].unique())\n",
    "shoes"
   ]
  },
  {
   "cell_type": "code",
   "execution_count": 71,
   "metadata": {},
   "outputs": [
    {
     "name": "stdout",
     "output_type": "stream",
     "text": [
      "0 SUCCESS: Nike Air Pegasus 92 Lite\n",
      "1 SUCCESS: Nike Tanjun\n",
      "2 SUCCESS: Jordan Zoom Zero Gravity\n",
      "3 SUCCESS: Jordan React Havoc Paris Saint-Germain (PSG)\n",
      "4 SUCCESS: Nike Tanjun in Midnight Navy/Game Royal/White\n",
      "5 SUCCESS: Nike Air Huarache Premium ‘Varsity Jacket’ in Red\n",
      "6 SUCCESS: Nike Air Zoom Pegasus Lite Total Orange 92\n",
      "7 SUCCESS: Odyssey React 2 Flyknit ‘Black Racer Blue’\n",
      "8 SUCCESS: Eric Koston Air Jordan 1 Low ‘Powder Blue’\n",
      "9 SUCCESS: JIMMY CHOO Diamond X Strap/F Leather Sneakers\n",
      "10 SUCCESS: Nike Blazer Low X ‘White Light Photo Blue’\n",
      "11 SUCCESS: Eric Koston x Air Jordan 1 Low SB ‘Powder Blue’\n",
      "12 SUCCESS: Nike Waffle One Summer of Sports Pack\n",
      "13 SUCCESS: ASIC Mexico 66 ‘Kill Bill’\n",
      "14 SUCCESS: Nike Air Jordan 3 ‘Muslin’\n",
      "15 ERROR: Red Nike Daybreak Type ‘Red Racer Blue’ (Red Nike Daybreak Type Red Racer Blue)\n",
      "'NoneType' object is not subscriptable\n",
      "16 SUCCESS: Nike Daybreak ‘Light Armory Blue’\n",
      "17 SUCCESS: Nike Air Jordan 5 “Chinese New Year”\n",
      "18 SUCCESS: Nike Air Jordan 1 Low Light Smoke Grey\n",
      "19 SUCCESS: Nike Air Jordan 1 Low ‘White Camo’\n",
      "20 SUCCESS: Air Jordan 13 “Lucky Green”\n",
      "21 SUCCESS: Nike Phantom Vision Academy Indoor Turf Soccer Shoes\n",
      "22 SUCCESS: New Balance 515 Sport V2 White Pigment Red ML515OTX\n",
      "23 SUCCESS: New Balance 515 V2 White Pigment Red\n",
      "24 SUCCESS: Nike Jordan Delta Breathe\n",
      "25 SUCCESS: Nike Air Jordan 1 Retro High OG ‘University Blue’\n",
      "26 ERROR: Nike Daybreak ‘Red Racer Blue’ (Nike Daybreak Red Racer Blue)\n",
      "'NoneType' object is not subscriptable\n",
      "27 ERROR: Nike Jordan 1 Low Mocha (Nike Jordan 1 Low Mocha)\n",
      "Expecting value: line 1 column 1 (char 0)\n",
      "28 SUCCESS: Nike Air Huarache ‘Red Oxide’\n",
      "29 SUCCESS: Nike Air Jordan 1 Low SE ‘Spades’\n"
     ]
    }
   ],
   "source": [
    "import re\n",
    "import time\n",
    "\n",
    "url = \"https://sneaker-database-stockx.p.rapidapi.com/getproducts\"\n",
    "\n",
    "headers = {\n",
    "\t\"X-RapidAPI-Key\": key['RAPID_API_KEY'],\n",
    "\t\"X-RapidAPI-Host\": \"sneaker-database-stockx.p.rapidapi.com\"\n",
    "}\n",
    "\n",
    "sneaker_dict = {}\n",
    "for i, sneaker in enumerate(shoes): \n",
    "    \n",
    "\ttry:\n",
    "\t\t# cleaning up quote characters\n",
    "\t\tsneaker_str = re.sub(r'[^A-Za-z0-9 ]+', ' ', sneaker)\n",
    "\t\tsneaker_str = re.sub(' +', ' ', sneaker_str).strip()\n",
    "\t\tsneaker_str = sneaker_str.replace(\" Light \", \" \")\n",
    "\t\tsneaker_str = sneaker_str.replace(\" X Strap F Leather \", \" \")\n",
    "\n",
    "\t\t# make API request to the getProducts endpoint of the Sneaker Database - StockX API, save response in dict\n",
    "\t\tquerystring = {\"keywords\":sneaker_str,\"limit\":\"1\"}\n",
    "\t\tresponse = requests.get(url, headers=headers, params=querystring)\n",
    "\t\tsneaker_dict[sneaker] = json.loads(response.text)[0]\n",
    "\t\tprint(i, f\"SUCCESS: {sneaker}\")\n",
    "\n",
    "\texcept Exception as e:\n",
    "\t\tprint(i, f\"ERROR: {sneaker} ({sneaker_str})\")\n",
    "\t\tprint(e)\n",
    "\n",
    "\t# wait 2 minutes just in case we hit the rate limit\n",
    "\ttime.sleep(120)\n"
   ]
  },
  {
   "cell_type": "code",
   "execution_count": 76,
   "metadata": {},
   "outputs": [],
   "source": [
    "with open(\"./data/sneaker_info.json\", \"w\") as outfile:\n",
    "    json.dump(sneaker_dict, outfile)"
   ]
  },
  {
   "cell_type": "code",
   "execution_count": null,
   "metadata": {},
   "outputs": [],
   "source": []
  }
 ],
 "metadata": {
  "kernelspec": {
   "display_name": "Python 3.8.9 64-bit",
   "language": "python",
   "name": "python3"
  },
  "language_info": {
   "codemirror_mode": {
    "name": "ipython",
    "version": 3
   },
   "file_extension": ".py",
   "mimetype": "text/x-python",
   "name": "python",
   "nbconvert_exporter": "python",
   "pygments_lexer": "ipython3",
   "version": "3.8.9"
  },
  "orig_nbformat": 4,
  "vscode": {
   "interpreter": {
    "hash": "31f2aee4e71d21fbe5cf8b01ff0e069b9275f58929596ceb00d14d90e3e16cd6"
   }
  }
 },
 "nbformat": 4,
 "nbformat_minor": 2
}
