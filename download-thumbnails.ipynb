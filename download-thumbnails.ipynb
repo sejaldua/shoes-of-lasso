{
 "cells": [
  {
   "cell_type": "code",
   "execution_count": 21,
   "metadata": {},
   "outputs": [],
   "source": [
    "import json\n",
    "import requests"
   ]
  },
  {
   "cell_type": "code",
   "execution_count": 22,
   "metadata": {},
   "outputs": [
    {
     "data": {
      "text/plain": [
       "('Nike Air Pegasus 92 Lite',\n",
       " {'lowestResellPrice': {'stockX': 333, 'flightClub': 300, 'goat': 300},\n",
       "  'imageLinks': [],\n",
       "  '_id': '648507dc21b75900214ad913',\n",
       "  'shoeName': 'Nike Air Pegasus 92 Olympic (2016)',\n",
       "  'brand': 'Nike',\n",
       "  'silhoutte': 'Nike Air Pegasus 92',\n",
       "  'styleID': '844964-100',\n",
       "  'make': 'Nike Air Pegasus 92',\n",
       "  'colorway': 'White/University Red-Midnight Navy',\n",
       "  'retailPrice': 115,\n",
       "  'thumbnail': 'https://images.stockx.com/images/Nike-Air-Pegasus-92-Olympic-2016-Product.jpg?fit=fill&bg=FFFFFF&w=700&h=500&fm=webp&auto=compress&trim=color&q=90&dpr=2&updated_at=1607654427',\n",
       "  'releaseDate': '2016-07-07',\n",
       "  'description': 'In honor of the 2016 Summer Olympics in Rio de Janeiro, Nike brought back the Olympic-themed Pegasus colorway that originally dropped during the ‘92 Barcelona Games. A suitably patriotic color scheme is applied to the retro runner, highlighted by a white and mesh leather upper with a red leather Swoosh and navy mesh quarter panel.',\n",
       "  'urlKey': 'air-pegasus-92-olympic-2016',\n",
       "  'resellLinks': {'stockX': 'https://stockx.com/air-pegasus-92-olympic-2016',\n",
       "   'flightClub': 'https://www.flightclub.com/air-pegasus-92-olympic-844964-100',\n",
       "   'goat': 'http://www.goat.com/sneakers/air-pegasus-92-olympic-844964-100'},\n",
       "  'goatProductId': 59957})"
      ]
     },
     "execution_count": 22,
     "metadata": {},
     "output_type": "execute_result"
    }
   ],
   "source": [
    "with open(\"./data/sneaker_info.json\") as f:\n",
    "    sneaker_info = json.load(f)\n",
    "    \n",
    "list(sneaker_info.items())[0]"
   ]
  },
  {
   "cell_type": "code",
   "execution_count": 23,
   "metadata": {},
   "outputs": [
    {
     "name": "stdout",
     "output_type": "stream",
     "text": [
      "nike-air-pegasus-92-lite\n",
      "nike-tanjun\n",
      "jordan-zoom-zero-gravity\n",
      "jordan-react-havoc-paris-saint-germain-psg\n",
      "nike-tanjun-in-midnight-navy-game-royal-white\n",
      "nike-air-huarache-premium-varsity-jacket-in-red\n",
      "nike-air-zoom-pegasus-lite-total-orange-92\n",
      "odyssey-react-2-flyknit-black-racer-blue\n",
      "eric-koston-air-jordan-1-low-powder-blue\n",
      "jimmy-choo-diamond-x-strap-f-leather-sneakers\n",
      "nike-blazer-low-x-white-light-photo-blue\n",
      "eric-koston-x-air-jordan-1-low-sb-powder-blue\n",
      "nike-waffle-one-summer-of-sports-pack\n",
      "asic-mexico-66-kill-bill\n",
      "nike-air-jordan-3-muslin\n",
      "nike-daybreak-light-armory-blue\n",
      "nike-air-jordan-5-chinese-new-year\n",
      "nike-air-jordan-1-low-light-smoke-grey\n",
      "nike-air-jordan-1-low-white-camo\n",
      "air-jordan-13-lucky-green\n",
      "nike-phantom-vision-academy-indoor-turf-soccer-shoes\n",
      "new-balance-515-sport-v2-white-pigment-red-ml515otx\n",
      "new-balance-515-v2-white-pigment-red\n",
      "nike-jordan-delta-breathe\n",
      "nike-air-jordan-1-retro-high-og-university-blue\n",
      "nike-air-huarache-red-oxide\n",
      "nike-air-jordan-1-low-se-spades\n"
     ]
    }
   ],
   "source": [
    "from skimage import io\n",
    "import matplotlib.pyplot as plt\n",
    "import re\n",
    "\n",
    "for key, val in sneaker_info.items():\n",
    "    sneaker_str = re.sub(r'[^A-Za-z0-9 ]+', ' ', key)\n",
    "    sneaker_str = re.sub(' +', ' ', sneaker_str).strip()\n",
    "    img_name = sneaker_str.replace(' ', '-').lower()\n",
    "    print(img_name)\n",
    "    img_url = val['thumbnail']\n",
    "    response = requests.get(img_url)\n",
    "    fpath = f'{img_name}.jpg'\n",
    "    with open(f'images/{fpath}', 'wb') as f:\n",
    "        f.write(response.content)"
   ]
  },
  {
   "cell_type": "code",
   "execution_count": null,
   "metadata": {},
   "outputs": [],
   "source": []
  }
 ],
 "metadata": {
  "kernelspec": {
   "display_name": "Python 3.8.9 64-bit",
   "language": "python",
   "name": "python3"
  },
  "language_info": {
   "codemirror_mode": {
    "name": "ipython",
    "version": 3
   },
   "file_extension": ".py",
   "mimetype": "text/x-python",
   "name": "python",
   "nbconvert_exporter": "python",
   "pygments_lexer": "ipython3",
   "version": "3.8.9"
  },
  "orig_nbformat": 4,
  "vscode": {
   "interpreter": {
    "hash": "31f2aee4e71d21fbe5cf8b01ff0e069b9275f58929596ceb00d14d90e3e16cd6"
   }
  }
 },
 "nbformat": 4,
 "nbformat_minor": 2
}
