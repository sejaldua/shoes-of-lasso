{
 "cells": [
  {
   "cell_type": "code",
   "execution_count": 2,
   "metadata": {},
   "outputs": [
    {
     "name": "stdout",
     "output_type": "stream",
     "text": [
      "Requirement already satisfied: beautifulsoup4 in /opt/homebrew/lib/python3.11/site-packages (4.12.0)\n",
      "Requirement already satisfied: tqdm in /opt/homebrew/lib/python3.11/site-packages (4.65.0)\n",
      "Requirement already satisfied: lxml in /opt/homebrew/lib/python3.11/site-packages (4.9.2)\n",
      "Requirement already satisfied: pandas in /opt/homebrew/lib/python3.11/site-packages (1.5.3)\n",
      "Requirement already satisfied: unidecode in /opt/homebrew/lib/python3.11/site-packages (1.3.6)\n",
      "Requirement already satisfied: soupsieve>1.2 in /opt/homebrew/lib/python3.11/site-packages (from beautifulsoup4) (2.4)\n",
      "Requirement already satisfied: python-dateutil>=2.8.1 in /opt/homebrew/lib/python3.11/site-packages (from pandas) (2.8.2)\n",
      "Requirement already satisfied: pytz>=2020.1 in /opt/homebrew/lib/python3.11/site-packages (from pandas) (2023.3)\n",
      "Requirement already satisfied: numpy>=1.21.0 in /opt/homebrew/lib/python3.11/site-packages (from pandas) (1.24.2)\n",
      "Requirement already satisfied: six>=1.5 in /opt/homebrew/lib/python3.11/site-packages (from python-dateutil>=2.8.1->pandas) (1.16.0)\n",
      "\n",
      "\u001b[1m[\u001b[0m\u001b[34;49mnotice\u001b[0m\u001b[1;39;49m]\u001b[0m\u001b[39;49m A new release of pip available: \u001b[0m\u001b[31;49m22.3.1\u001b[0m\u001b[39;49m -> \u001b[0m\u001b[32;49m23.1.2\u001b[0m\n",
      "\u001b[1m[\u001b[0m\u001b[34;49mnotice\u001b[0m\u001b[1;39;49m]\u001b[0m\u001b[39;49m To update, run: \u001b[0m\u001b[32;49mpython3.11 -m pip install --upgrade pip\u001b[0m\n"
     ]
    }
   ],
   "source": [
    "!python3 -m pip install beautifulsoup4 tqdm lxml pandas unidecode\n",
    "# alternative to selenium\n",
    "# !python3 -m pip install playwright"
   ]
  },
  {
   "cell_type": "code",
   "execution_count": 7,
   "metadata": {},
   "outputs": [],
   "source": [
    "import os\n",
    "import numpy as np\n",
    "import pandas as pd\n",
    "from datetime import date \n",
    "import time\n",
    "import pickle\n",
    "import json\n",
    "import re\n",
    "import requests\n",
    "from urllib.error import HTTPError\n",
    "import urllib.request\n",
    "from bs4 import BeautifulSoup\n",
    "import warnings\n",
    "from pprint import pprint\n",
    "warnings.filterwarnings('ignore')"
   ]
  },
  {
   "cell_type": "code",
   "execution_count": 12,
   "metadata": {},
   "outputs": [
    {
     "data": {
      "text/plain": [
       "['https://shoesoflasso.com/',\n",
       " 'https://shoesoflasso.com/',\n",
       " 'https://shoesoflasso.com/episode-list/',\n",
       " 'https://shoesoflasso.com/season-1-shoes-in-ted-lasso/',\n",
       " 'https://shoesoflasso.com/pilot-season-1-episode-1/',\n",
       " 'https://shoesoflasso.com/biscuits-season-1-episode-2/',\n",
       " 'https://shoesoflasso.com/trent-crimm-the-independent-season-1-episode-3/',\n",
       " 'https://shoesoflasso.com/tan-lines-new-underwear-season-1-episode-5/',\n",
       " 'https://shoesoflasso.com/two-aces-season-1-episode-6/',\n",
       " 'https://shoesoflasso.com/make-rebecca-great-again-season-1-episode-7/',\n",
       " 'https://shoesoflasso.com/the-diamond-dogs-season-1-episode-8/',\n",
       " 'https://shoesoflasso.com/all-apologies-season-1-episode-9/',\n",
       " 'https://shoesoflasso.com/the-hope-that-kills-you-season-1-episode-10/',\n",
       " 'https://shoesoflasso.com/season-2-shoes-in-ted-lasso/',\n",
       " 'https://shoesoflasso.com/ted-lasso-goodbye-earl-season-2-episode-1/',\n",
       " 'https://shoesoflasso.com/lavender-season-2-episode-2/',\n",
       " 'https://shoesoflasso.com/ted-lasso-do-the-right-est-thing-season-2-episode-3/',\n",
       " 'https://shoesoflasso.com/carol-of-the-bells-ted-lasso-christmas-season-2-episode-4/',\n",
       " 'https://shoesoflasso.com/rainbow-season-2-episode-5/',\n",
       " 'https://shoesoflasso.com/the-signal-season-2-episode-6/',\n",
       " 'https://shoesoflasso.com/headspace-season-2-episode-7/',\n",
       " 'https://shoesoflasso.com/man-city-season-2-episode-8/',\n",
       " 'https://shoesoflasso.com/beard-after-hours-season-2-episode-9/',\n",
       " 'https://shoesoflasso.com/no-weddings-and-a-funeral-season-2-ep-10/',\n",
       " 'https://shoesoflasso.com/midnight-train-to-royston-season-2-ep-11/',\n",
       " 'https://shoesoflasso.com/inverting-the-pyramid-of-success-season-2-ep-12/',\n",
       " 'https://shoesoflasso.com/season-3-shoes-in-ted-lasso/',\n",
       " 'https://shoesoflasso.com/smells-like-mean-spirit-season-3-ep-1/',\n",
       " 'https://shoesoflasso.com/i-dont-want-to-go-to-chelsea-season-3-ep-2/',\n",
       " 'https://shoesoflasso.com/4-5-1-season-3-ep-3/',\n",
       " 'https://shoesoflasso.com/big-week-season-3-ep-4/',\n",
       " 'https://shoesoflasso.com/signs-season-3-ep-5/',\n",
       " 'https://shoesoflasso.com/sunflowers-season-3-ep-6/',\n",
       " 'https://shoesoflasso.com/the-strings-that-bind-us-season-3-ep-7/',\n",
       " 'https://shoesoflasso.com/well-never-have-paris-season-3-ep-8/',\n",
       " 'https://tv.apple.com/us/show/ted-lasso/umc.cmc.vtoh0mn0xn7t3c643xqonfzy',\n",
       " 'https://shoesoflasso.com/pilot-season-1-episode-1/',\n",
       " 'https://shoesoflasso.com/biscuits-season-1-episode-2/',\n",
       " 'https://shoesoflasso.com/trent-crimm-the-independent-season-1-episode-3/',\n",
       " 'https://shoesoflasso.com/tan-lines-new-underwear-season-1-episode-5/',\n",
       " 'https://shoesoflasso.com/two-aces-season-1-episode-6/',\n",
       " 'https://shoesoflasso.com/make-rebecca-great-again-season-1-episode-7/',\n",
       " 'https://shoesoflasso.com/the-diamond-dogs-season-1-episode-8/',\n",
       " 'https://shoesoflasso.com/all-apologies-season-1-episode-9/',\n",
       " 'https://shoesoflasso.com/the-hope-that-kills-you-season-1-episode-10/',\n",
       " 'https://tv.apple.com/us/show/ted-lasso/umc.cmc.vtoh0mn0xn7t3c643xqonfzy',\n",
       " 'https://shoesoflasso.com/ted-lasso-goodbye-earl-season-2-episode-1/',\n",
       " 'https://shoesoflasso.com/lavender-season-2-episode-2/',\n",
       " 'https://shoesoflasso.com/ted-lasso-do-the-right-est-thing-season-2-episode-3/',\n",
       " 'https://shoesoflasso.com/carol-of-the-bells-ted-lasso-christmas-season-2-episode-4/',\n",
       " 'https://shoesoflasso.com/rainbow-season-2-episode-5/',\n",
       " 'https://shoesoflasso.com/the-signal-season-2-episode-6/',\n",
       " 'https://shoesoflasso.com/headspace-season-2-episode-7/',\n",
       " 'https://shoesoflasso.com/man-city-season-2-episode-8/',\n",
       " 'https://shoesoflasso.com/beard-after-hours-season-2-episode-9/',\n",
       " 'https://shoesoflasso.com/no-weddings-and-a-funeral-season-2-ep-10/',\n",
       " 'https://shoesoflasso.com/midnight-train-to-royston-season-2-ep-11/',\n",
       " 'https://shoesoflasso.com/inverting-the-pyramid-of-success-season-2-ep-12/',\n",
       " 'https://tv.apple.com/us/show/ted-lasso/umc.cmc.vtoh0mn0xn7t3c643xqonfzy',\n",
       " 'https://shoesoflasso.com/smells-like-mean-spirit-season-3-ep-1/',\n",
       " 'https://shoesoflasso.com/i-dont-want-to-go-to-chelsea-season-3-ep-2/',\n",
       " 'https://shoesoflasso.com/4-5-1-season-3-ep-3/',\n",
       " 'https://shoesoflasso.com/4-5-1-season-3-ep-3/',\n",
       " 'https://shoesoflasso.com/big-week-season-3-ep-4/',\n",
       " 'https://shoesoflasso.com/big-week-season-3-ep-4/',\n",
       " 'https://shoesoflasso.com/4-5-1-season-3-ep-3/',\n",
       " 'https://shoesoflasso.com/signs-season-3-ep-5/',\n",
       " 'https://shoesoflasso.com/4-5-1-season-3-ep-3/',\n",
       " 'https://shoesoflasso.com/sunflowers-season-3-ep-6/',\n",
       " 'https://shoesoflasso.com/nike-blazer-low-x-white-light-photo-blue-of-toheeb-gbolabo-as-sam-obisanya-in-ted-lasso-s03e07-the-strings-that-bind-us-2023/',\n",
       " 'https://shoesoflasso.com/4-5-1-season-3-ep-3/',\n",
       " 'https://shoesoflasso.com/well-never-have-paris-season-3-ep-8/',\n",
       " 'https://shoesoflasso.com/well-never-have-paris-season-3-ep-8/',\n",
       " 'https://shoesoflasso.com/4-5-1-season-3-ep-3/',\n",
       " 'https://shoesoflasso.com/4-5-1-season-3-ep-3/',\n",
       " 'https://shoesoflasso.com/4-5-1-season-3-ep-3/',\n",
       " 'https://shoesoflasso.com/about-us/',\n",
       " 'https://shoesoflasso.com/privacy-policy/',\n",
       " 'https://shoesoflasso.com/copyright/']"
      ]
     },
     "execution_count": 12,
     "metadata": {},
     "output_type": "execute_result"
    }
   ],
   "source": [
    "import requests \n",
    "cookies = {\n",
    "    '_ga': 'GA1.1.1636864037.1684958837',\n",
    "    'trc_cookie_storage': 'taboola%2520global%253Auser-id%3Dd8ff65a6-5179-446b-acdf-7a5a5d36e76d-tuct965d9be',\n",
    "    '_ga_0VVD9VP56V': 'GS1.1.1684958837.1.1.1684958896.1.0.0',\n",
    "}\n",
    "\n",
    "headers = {\n",
    "    'Accept': 'text/html,application/xhtml+xml,application/xml;q=0.9,image/avif,image/webp,image/apng,*/*;q=0.8,application/signed-exchange;v=b3;q=0.7',\n",
    "    'Accept-Language': 'en-US,en;q=0.9',\n",
    "    'Connection': 'keep-alive',\n",
    "    # 'Cookie': '_ga=GA1.1.1636864037.1684958837; trc_cookie_storage=taboola%2520global%253Auser-id%3Dd8ff65a6-5179-446b-acdf-7a5a5d36e76d-tuct965d9be; _ga_0VVD9VP56V=GS1.1.1684958837.1.1.1684958896.1.0.0',\n",
    "    'Referer': 'https://shoesoflasso.com/asic-mexico-66-kill-bill-of-maximilian-osinski-as-zava-in-ted-lasso-s03e03-4-5-1-2023/',\n",
    "    'Sec-Fetch-Dest': 'document',\n",
    "    'Sec-Fetch-Mode': 'navigate',\n",
    "    'Sec-Fetch-Site': 'same-origin',\n",
    "    'Sec-Fetch-User': '?1',\n",
    "    'Upgrade-Insecure-Requests': '1',\n",
    "    'User-Agent': 'Mozilla/5.0 (Macintosh; Intel Mac OS X 10_15_7) AppleWebKit/537.36 (KHTML, like Gecko) Chrome/113.0.0.0 Safari/537.36',\n",
    "    'sec-ch-ua': '\"Google Chrome\";v=\"113\", \"Chromium\";v=\"113\", \"Not-A.Brand\";v=\"24\"',\n",
    "    'sec-ch-ua-mobile': '?0',\n",
    "    'sec-ch-ua-platform': '\"macOS\"',\n",
    "}\n",
    "url = 'https://shoesoflasso.com/episode-list/'\n",
    "r = requests.get(url, cookies=cookies, headers=headers) \n",
    "soup = BeautifulSoup(r.content) \n",
    "# print(soup.prettify()) \n",
    "web_links = soup.select('a') \n",
    "actual_web_links = [web_link['href'] for web_link in web_links] \n",
    "actual_web_links"
   ]
  },
  {
   "cell_type": "code",
   "execution_count": 15,
   "metadata": {},
   "outputs": [
    {
     "name": "stdout",
     "output_type": "stream",
     "text": [
      "Found 30 Ted Lasso episodes with sneakers!\n",
      "['https://shoesoflasso.com/no-weddings-and-a-funeral-season-2-ep-10/', 'https://shoesoflasso.com/midnight-train-to-royston-season-2-ep-11/', 'https://shoesoflasso.com/inverting-the-pyramid-of-success-season-2-ep-12/', 'https://shoesoflasso.com/smells-like-mean-spirit-season-3-ep-1/', 'https://shoesoflasso.com/i-dont-want-to-go-to-chelsea-season-3-ep-2/', 'https://shoesoflasso.com/4-5-1-season-3-ep-3/', 'https://shoesoflasso.com/big-week-season-3-ep-4/', 'https://shoesoflasso.com/signs-season-3-ep-5/', 'https://shoesoflasso.com/sunflowers-season-3-ep-6/', 'https://shoesoflasso.com/the-strings-that-bind-us-season-3-ep-7/', 'https://shoesoflasso.com/well-never-have-paris-season-3-ep-8/', 'https://shoesoflasso.com/no-weddings-and-a-funeral-season-2-ep-10/', 'https://shoesoflasso.com/midnight-train-to-royston-season-2-ep-11/', 'https://shoesoflasso.com/inverting-the-pyramid-of-success-season-2-ep-12/', 'https://shoesoflasso.com/smells-like-mean-spirit-season-3-ep-1/', 'https://shoesoflasso.com/i-dont-want-to-go-to-chelsea-season-3-ep-2/', 'https://shoesoflasso.com/4-5-1-season-3-ep-3/', 'https://shoesoflasso.com/4-5-1-season-3-ep-3/', 'https://shoesoflasso.com/big-week-season-3-ep-4/', 'https://shoesoflasso.com/big-week-season-3-ep-4/', 'https://shoesoflasso.com/4-5-1-season-3-ep-3/', 'https://shoesoflasso.com/signs-season-3-ep-5/', 'https://shoesoflasso.com/4-5-1-season-3-ep-3/', 'https://shoesoflasso.com/sunflowers-season-3-ep-6/', 'https://shoesoflasso.com/4-5-1-season-3-ep-3/', 'https://shoesoflasso.com/well-never-have-paris-season-3-ep-8/', 'https://shoesoflasso.com/well-never-have-paris-season-3-ep-8/', 'https://shoesoflasso.com/4-5-1-season-3-ep-3/', 'https://shoesoflasso.com/4-5-1-season-3-ep-3/', 'https://shoesoflasso.com/4-5-1-season-3-ep-3/']\n"
     ]
    }
   ],
   "source": [
    "import re\n",
    "\n",
    "def filter_urls(urls):\n",
    "  \"\"\"\n",
    "  Filters a list of URL strings using regex such that each link must end with\n",
    "  \"season\" followed by \"-\" followed by a number followed by \"-\" followed by\n",
    "  \"episode\" followed by \"-\" followed by a number followed by \"/\".\n",
    "\n",
    "  Args:\n",
    "    urls: A list of URL strings.\n",
    "\n",
    "  Returns:\n",
    "    A list of filtered URL strings.\n",
    "  \"\"\"\n",
    "\n",
    "  # Create a regular expression to match the desired pattern.\n",
    "  pattern = re.compile(r'.*season-\\d+-ep-\\d+\\/')\n",
    "\n",
    "  # Filter the list of URL strings.\n",
    "  filtered_urls = [url for url in urls if re.match(pattern, url)]\n",
    "\n",
    "  return filtered_urls\n",
    "\n",
    "episodes_w_sneaks = filter_urls(actual_web_links)\n",
    "print(f\"Found {len(episodes_w_sneaks)} Ted Lasso episodes with sneakers!\")\n",
    "print(episodes_w_sneaks)"
   ]
  },
  {
   "cell_type": "code",
   "execution_count": 20,
   "metadata": {},
   "outputs": [
    {
     "name": "stdout",
     "output_type": "stream",
     "text": [
      "[<a class=\"eael-grid-post-link\" href=\"https://shoesoflasso.com/new-balance-shoes-worn-by-brendan-hunt-as-coach-beard-in-ted-lasso-s02e10-no-weddings-and-a-funeral-2021/\" title=\"New Balance Shoes Worn by Brendan Hunt as Coach Beard in Ted Lasso S02E10 “No Weddings and a Funeral” (2021)\">New Balance Shoes Worn by Brendan Hunt as Coach Beard in Ted Lasso S02E10 “No Weddings and a Funeral” (2021)</a>]\n"
     ]
    }
   ],
   "source": [
    "def scrape_sneaks(url):\n",
    "    global cookies, headers\n",
    "    r = requests.get(url, cookies=cookies, headers=headers) \n",
    "    soup = BeautifulSoup(r.content)\n",
    "    web_links = soup.findAll('a', attrs={'class': 'eael-grid-post-link'}) \n",
    "    print(web_links)\n",
    "\n",
    "for url in episodes_w_sneaks:\n",
    "    scrape_sneaks(url)\n",
    "    break"
   ]
  },
  {
   "cell_type": "code",
   "execution_count": null,
   "metadata": {},
   "outputs": [],
   "source": []
  }
 ],
 "metadata": {
  "interpreter": {
   "hash": "dae7da88b31f03f134a269414e735646eb28aef172fdec5380d41c390c8e66ac"
  },
  "kernelspec": {
   "display_name": "Python 3.9.13 64-bit ('3.9.13')",
   "language": "python",
   "name": "python3"
  },
  "language_info": {
   "codemirror_mode": {
    "name": "ipython",
    "version": 3
   },
   "file_extension": ".py",
   "mimetype": "text/x-python",
   "name": "python",
   "nbconvert_exporter": "python",
   "pygments_lexer": "ipython3",
   "version": "3.9.10"
  },
  "orig_nbformat": 4
 },
 "nbformat": 4,
 "nbformat_minor": 2
}
